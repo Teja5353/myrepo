{
 "cells": [
  {
   "cell_type": "markdown",
   "id": "6da1b42b-1cbf-4127-a250-490b98a0c520",
   "metadata": {},
   "source": [
    "<h1>Data Science Tools and Ecosystem</h1>"
   ]
  },
  {
   "cell_type": "markdown",
   "id": "9482a263-7c55-4e2a-a97c-e343a48dc8d4",
   "metadata": {},
   "source": [
    "In this notebook, Data Science Tools and Ecosystem are summarized."
   ]
  },
  {
   "cell_type": "markdown",
   "id": "891265a5-56a8-49b4-a619-3cf104ffa67e",
   "metadata": {},
   "source": [
    "<ol>\n",
    "    <p>Some of the popular languages that Data Scientists use are:</p>\n",
    "    <li>Python</li>\n",
    "    <li>R</li>\n",
    "    <li>SQL</li>\n",
    "</ol>"
   ]
  },
  {
   "cell_type": "markdown",
   "id": "aee11004-a131-4827-bda7-93018ef12dbc",
   "metadata": {
    "tags": []
   },
   "source": [
    "Some of the commonly used libraries used by Data Scientists include:"
   ]
  },
  {
   "cell_type": "markdown",
   "id": "60f0e5d4-109e-49ab-b7ad-52368da9c287",
   "metadata": {},
   "source": [
    "<ol>\n",
    "    <li>SCIKIT-LEARN</li>\n",
    "    <li>PyTorch</li>\n",
    "    <li>Pandas</li>\n",
    "</ol>"
   ]
  },
  {
   "cell_type": "markdown",
   "id": "b2dde040-0694-42b9-9431-f54b8b032af3",
   "metadata": {},
   "source": [
    "| Data Science Tools |\n",
    "| :---               |\n",
    "| R Studio           |\n",
    "| Jupyter            |\n",
    "| Watson Studio      |"
   ]
  },
  {
   "cell_type": "markdown",
   "id": "289fa98c-9e52-4d9e-94f6-a8248cb27da5",
   "metadata": {},
   "source": [
    "<h3>Below are a few examples of evaluating arithmetic expressions in Python</h3>"
   ]
  },
  {
   "cell_type": "markdown",
   "id": "553ad5b5-b29e-4e2a-a87e-56deab3a4327",
   "metadata": {},
   "source": [
    " This a simple arithmetic expression to mutiply then add integers This a simple arithmetic expression to mutiply then add integers"
   ]
  },
  {
   "cell_type": "code",
   "execution_count": 5,
   "id": "4bb80c0f-17ca-4568-a33c-52b89e84eeaf",
   "metadata": {
    "tags": []
   },
   "outputs": [
    {
     "data": {
      "text/plain": [
       "17"
      ]
     },
     "execution_count": 5,
     "metadata": {},
     "output_type": "execute_result"
    }
   ],
   "source": [
    "(3*4)+5"
   ]
  },
  {
   "cell_type": "markdown",
   "id": "5a7b0e41-f7f2-42b0-aa82-66298abfadfe",
   "metadata": {
    "tags": []
   },
   "source": [
    "This will convert 200 minutes to hours by diving by 60"
   ]
  },
  {
   "cell_type": "code",
   "execution_count": 8,
   "id": "29174d13-3b27-4379-9d41-20c4307561c4",
   "metadata": {
    "tags": []
   },
   "outputs": [
    {
     "data": {
      "text/plain": [
       "3.3333333333333335"
      ]
     },
     "execution_count": 8,
     "metadata": {},
     "output_type": "execute_result"
    }
   ],
   "source": [
    "200/60"
   ]
  },
  {
   "cell_type": "markdown",
   "id": "3539c31d-1799-427f-a6eb-3ade968220a9",
   "metadata": {},
   "source": [
    "**Objectives:**"
   ]
  },
  {
   "cell_type": "markdown",
   "id": "25effcfc-7206-4b5a-a846-475e830a74cc",
   "metadata": {},
   "source": [
    "<ul>\n",
    "    <li>Python</li>\n",
    "    <li>Sql</li>\n",
    "    <li>R</li>\n",
    "</ul>\n"
   ]
  },
  {
   "cell_type": "code",
   "execution_count": null,
   "id": "851739ba-efb3-4168-9933-b0a176e0c7da",
   "metadata": {},
   "outputs": [],
   "source": []
  }
 ],
 "metadata": {
  "kernelspec": {
   "display_name": "Python",
   "language": "python",
   "name": "conda-env-python-py"
  },
  "language_info": {
   "codemirror_mode": {
    "name": "ipython",
    "version": 3
   },
   "file_extension": ".py",
   "mimetype": "text/x-python",
   "name": "python",
   "nbconvert_exporter": "python",
   "pygments_lexer": "ipython3",
   "version": "3.7.12"
  }
 },
 "nbformat": 4,
 "nbformat_minor": 5
}
