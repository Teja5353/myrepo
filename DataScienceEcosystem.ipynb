{
 "cells": [
  {
   "cell_type": "markdown",
   "id": "04f12de1-626a-4188-9cc9-cb1241085e1f",
   "metadata": {},
   "source": [
    "<h1>Data Science Tools and Ecosystem</h1>"
   ]
  },
  {
   "cell_type": "markdown",
   "id": "7be480ee-0066-4a1f-b859-475d666e5d13",
   "metadata": {},
   "source": [
    "In this notebook, Data Science Tools and Ecosystem are summarized"
   ]
  },
  {
   "cell_type": "markdown",
   "id": "6358cbd0-2fbe-4306-b3cd-0283550b50c1",
   "metadata": {},
   "source": [
    "Some of the popular languages that Data Scientists use are:\n",
    "1.python\n",
    "2.R\n",
    "3.Java"
   ]
  },
  {
   "cell_type": "markdown",
   "id": "842774d3-1a46-427a-a318-5e603f91a397",
   "metadata": {},
   "source": [
    "Some of the commonly used libraries used by Data Scientists include:\n",
    "1.Scikit-Learn\n",
    "2.PyTorch\n",
    "3.Pandas"
   ]
  },
  {
   "cell_type": "markdown",
   "id": "9d92409c-5563-476e-8ec0-f79862101bc1",
   "metadata": {},
   "source": [
    "| Data Science Tools |\n",
    "| :------            |\n",
    "| VSCODE             |\n",
    "| RSTUDIO            |\n",
    "| JUPYTER NOTEBOOK   |\n"
   ]
  },
  {
   "cell_type": "markdown",
   "id": "90d6f9c0-4903-4656-a07e-10b0efa80d9c",
   "metadata": {},
   "source": [
    "<h3>Below are a few examples of evaluating arithmetic expressions in Python</h3>\n"
   ]
  },
  {
   "cell_type": "markdown",
   "id": "ea4fc934-e9b2-4029-99c5-94ee6530faa9",
   "metadata": {},
   "source": [
    " This a simple arithmetic expression to mutiply then add integers\n",
    " "
   ]
  },
  {
   "cell_type": "code",
   "execution_count": 1,
   "id": "6e39ebb1-dfdb-4e1e-9e03-3cac09ef95c8",
   "metadata": {
    "tags": []
   },
   "outputs": [
    {
     "data": {
      "text/plain": [
       "17"
      ]
     },
     "execution_count": 1,
     "metadata": {},
     "output_type": "execute_result"
    }
   ],
   "source": [
    "(3*4)+5"
   ]
  },
  {
   "cell_type": "markdown",
   "id": "5591f7b5-acbb-4f8a-b5f0-7b2ba852d663",
   "metadata": {},
   "source": [
    "This will convert 200 minutes to hours by diving by 60"
   ]
  },
  {
   "cell_type": "code",
   "execution_count": 2,
   "id": "d123eecc-47bf-41ea-9e42-4114bf437e62",
   "metadata": {
    "tags": []
   },
   "outputs": [
    {
     "data": {
      "text/plain": [
       "3.3333333333333335"
      ]
     },
     "execution_count": 2,
     "metadata": {},
     "output_type": "execute_result"
    }
   ],
   "source": [
    "200/60"
   ]
  },
  {
   "cell_type": "markdown",
   "id": "22d06067-884d-4569-b91e-fb6c2cf431af",
   "metadata": {
    "tags": []
   },
   "source": [
    "__Objectives:__\n",
    "- PYTHON\n",
    "- R\n",
    "- SQL"
   ]
  },
  {
   "cell_type": "markdown",
   "id": "99504bc8-aa13-4def-b45e-a2ee61f81f27",
   "metadata": {},
   "source": [
    "<h2>Author</h2>"
   ]
  },
  {
   "cell_type": "markdown",
   "id": "0786b4bb-916f-4079-8df1-66b4d8ae2941",
   "metadata": {},
   "source": [
    "TEJA\n"
   ]
  }
 ],
 "metadata": {
  "kernelspec": {
   "display_name": "Python",
   "language": "python",
   "name": "conda-env-python-py"
  },
  "language_info": {
   "codemirror_mode": {
    "name": "ipython",
    "version": 3
   },
   "file_extension": ".py",
   "mimetype": "text/x-python",
   "name": "python",
   "nbconvert_exporter": "python",
   "pygments_lexer": "ipython3",
   "version": "3.7.12"
  }
 },
 "nbformat": 4,
 "nbformat_minor": 5
}
